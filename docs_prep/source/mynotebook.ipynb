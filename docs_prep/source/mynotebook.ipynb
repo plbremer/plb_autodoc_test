{
 "cells": [
  {
   "cell_type": "markdown",
   "id": "5a81b239",
   "metadata": {},
   "source": [
    "# my notebook"
   ]
  },
  {
   "cell_type": "markdown",
   "id": "6c72c40a",
   "metadata": {},
   "source": [
    "## second heading"
   ]
  },
  {
   "cell_type": "markdown",
   "id": "278be1eb",
   "metadata": {},
   "source": [
    "hello there"
   ]
  }
 ],
 "metadata": {
  "kernelspec": {
   "display_name": "Python 3 (ipykernel)",
   "language": "python",
   "name": "python3"
  },
  "language_info": {
   "codemirror_mode": {
    "name": "ipython",
    "version": 3
   },
   "file_extension": ".py",
   "mimetype": "text/x-python",
   "name": "python",
   "nbconvert_exporter": "python",
   "pygments_lexer": "ipython3",
   "version": "3.8.12"
  }
 },
 "nbformat": 4,
 "nbformat_minor": 5
}
